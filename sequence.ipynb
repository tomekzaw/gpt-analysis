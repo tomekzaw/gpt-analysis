---
title: "R Notebook"
authors: Maciej Mionskowski, Tomasz Zawadzki
output: html_notebook
---

```{r}
install.packages("dplyr")
install.packages("rjson")
install.packages("devtools")
install.packages("ggplot2")
```

```{r}
library(dplyr)
Sys.setenv(LANG = "pl")
Sys.setlocale('LC_TIME','pl_PL.UTF-8')
```

```{r}
library(devtools)
devtools::install_github('cttobin/ggthemr')
```

```{r}
library(ggplot2)
#library(ggthemr)
#ggthemr('flat', layout = 'scientific')
```

```{r}
delays_csv <- read.csv('csv/norm3.csv')
delays <- delays_csv %>%
  transform(delays_csv,
    delay = delay/60,
    day = as.Date(day),
    theoretical_time = as.difftime(as.character(theoretical_time), "%H:%M:%S", units="hours")
  ) %>% filter(abs(delay) < 4*60)
delays$weekday <- weekdays(as.Date(delays$day))
```

```{r}
library(rjson)
raw_stops <- fromJSON(file='csv/stops.json')
stops <- raw_stops[['2019-06-20']][['stops']]
stops <- lapply(stops, function(x) {
  x[sapply(x, is.null)] <- NA
  unlist(x)
})
stops <- data.frame(do.call("rbind", stops))
```

```{r}
raw_routes <- fromJSON(file='csv/routes.json')
routes <- raw_routes[['2019-06-20']][['routes']]
routes <- lapply(routes, function(x) {
  x[sapply(x, is.null)] <- NA
  unlist(x)
})
routes <- data.frame(do.call("rbind", routes))
```
```{r}
stops_in_trip <- fromJSON(file='csv/stopsintrips.json')
stops_in_trip <- stops_in_trip[['2019-06-20']][['stopsInTrip']]
stops_in_trip <- lapply(stops_in_trip, function(x) {
  x[sapply(x, is.null)] <- NA
  unlist(x)
})
stops_in_trip <- data.frame(do.call("rbind", stops_in_trip))
stop_delays <- merge(x=delays, y=stops_in_trip, by.x=c("trip_id", "route_id", "stop_id"), by.y=c("tripId", "routeId", "stopId"))
stop_delays <- merge(stop_delays, stops, by.x="stop_id", by.y="stopId")
stop_delays$stopSequence = as.numeric(stop_delays$stopSequence)
```

```{r}
summary(delays$delay)
```

```{r} 
df <- data.frame(delay = delays$delay) %>% filter(delay >= -10 & delay <= 30)
ggplot(df, aes(x=delay, y=..density..)) +
  geom_histogram(binwidth=1) +
  labs(title="Histogram opóźnień przyjazdów na przystanek", x="Czas [min]", y=element_blank()) +
  scale_y_continuous(labels=scales::percent, limits=c(0, 0.25))
```

```{r}
df <- delays %>% distinct(trip, weekday) %>% group_by(weekday) %>% count()
ggplot(df, aes(x=weekday, y=n)) + 
  geom_bar(stat="identity", width=0.5) +
  labs(title="Rozkład kursów według dnia tygodnia", x="Dzień tygodnia", y="Liczba kursów") +
  scale_x_discrete(limits=c("poniedziałek", "wtorek", "środa", "czwartek", "piątek", "sobota", "niedziela"))
```

```{r}
df <- delays %>% distinct(trip, weekday) %>% group_by(weekday) %>% count()
ggplot(df, aes(x=weekday, y=n)) + 
  geom_bar(stat="identity", width=0.5) +
  labs(title="Rozkład kursów według dnia tygodnia", x="Dzień tygodnia", y="Liczba kursów") +
  scale_x_discrete(limits=c("poniedziałek", "wtorek", "środa", "czwartek", "piątek", "sobota", "niedziela"))
```

```{r}
breaks <- 0:12*2
ggplot(delays, aes(x=theoretical_time)) +
  geom_histogram(binwidth=0.25) +
  labs(title="Rozkład kursów według godziny", x="Godzina", y="Liczba kursów") +
  scale_x_continuous(
    breaks=breaks,
    labels=paste(breaks, "00", sep=":")
  )
```

```{r}
breaks <- 0:24
ggplot(delays, aes(x=theoretical_time, y=delay)) +
  stat_summary(fun.y="mean", geom="bar") +
  labs(title="Rozkład kursów według godziny", x="Godzina", y="Liczba kursów") +
  scale_x_continuous(
    breaks=breaks,
    labels=paste(breaks, "00", sep=":")
  )
```
```{r}
line_df <- stop_delays %>% filter(route_id == 200 & trip_id == 11)
ggplot(line_df, aes(stopSequence, delay)) +
  geom_point(alpha = 0.2) +
  labs(title="Rozkład spóźnienia linii tramwajowej 2") +
  scale_x_discrete(limits= line_df %>% distinct(stopSequence) %>% arrange(stopSequence) %>% `$`(stopSequence), labels=line_df %>% distinct(stopSequence, stopName) %>% arrange(stopSequence) %>% `$`(stopName)) + 
   theme(axis.text.x = element_text(angle = 60, hjust = 1, margin = margin(0, 0, 0, -1)),
        axis.title.x = element_blank())
```